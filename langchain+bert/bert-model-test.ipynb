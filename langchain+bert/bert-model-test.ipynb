{
 "cells": [
  {
   "attachments": {},
   "cell_type": "markdown",
   "metadata": {},
   "source": [
    "### **Preparing Data**"
   ]
  },
  {
   "cell_type": "code",
   "execution_count": 1,
   "metadata": {},
   "outputs": [
    {
     "name": "stderr",
     "output_type": "stream",
     "text": [
      "c:\\Users\\User\\AppData\\Local\\Programs\\Python\\Python311\\Lib\\site-packages\\pinecone\\index.py:4: TqdmWarning: IProgress not found. Please update jupyter and ipywidgets. See https://ipywidgets.readthedocs.io/en/stable/user_install.html\n",
      "  from tqdm.autonotebook import tqdm\n"
     ]
    }
   ],
   "source": [
    "from langchain.document_loaders import UnstructuredPDFLoader\n",
    "from langchain.text_splitter import RecursiveCharacterTextSplitter\n",
    "from langchain.vectorstores import Chroma, Pinecone\n",
    "from langchain.embeddings.openai import OpenAIEmbeddings\n",
    "import pinecone"
   ]
  },
  {
   "cell_type": "code",
   "execution_count": 2,
   "metadata": {},
   "outputs": [],
   "source": [
    "load_data = UnstructuredPDFLoader(\"../langchain+openai+pinecone/estimate-global-impacts.pdf\")"
   ]
  },
  {
   "cell_type": "code",
   "execution_count": 3,
   "metadata": {},
   "outputs": [
    {
     "name": "stderr",
     "output_type": "stream",
     "text": [
      "detectron2 is not installed. Cannot use the hi_res partitioning strategy. Falling back to partitioning with the fast strategy.\n"
     ]
    }
   ],
   "source": [
    "data = load_data.load()"
   ]
  },
  {
   "cell_type": "code",
   "execution_count": 4,
   "metadata": {},
   "outputs": [],
   "source": [
    "text_splitter = RecursiveCharacterTextSplitter(chunk_size=1000, chunk_overlap=0)\n",
    "texts = text_splitter.split_documents(data)"
   ]
  },
  {
   "cell_type": "code",
   "execution_count": 5,
   "metadata": {},
   "outputs": [],
   "source": [
    "OPEN_API_KEY = '<INSERT OPENAPI KEY FROM OPENAI ACCOUNT>'\n",
    "PINECONE_API_KEY = '<INSERT PINECONE API KEY FROM PINECONE ACCOUNT>'\n",
    "PINECONE_API_ENV = 'us-east4-gcp'"
   ]
  },
  {
   "cell_type": "code",
   "execution_count": 6,
   "metadata": {},
   "outputs": [],
   "source": [
    "embeddings = OpenAIEmbeddings(openai_api_key=OPEN_API_KEY)"
   ]
  },
  {
   "cell_type": "code",
   "execution_count": 7,
   "metadata": {},
   "outputs": [],
   "source": [
    "pinecone.init(\n",
    "    api_key=PINECONE_API_KEY,\n",
    "    environment=PINECONE_API_ENV\n",
    ")\n",
    "\n",
    "index_name = \"langchaintest1\""
   ]
  },
  {
   "cell_type": "code",
   "execution_count": 8,
   "metadata": {},
   "outputs": [],
   "source": [
    "docsearch = Pinecone.from_texts([t.page_content for t in texts], embeddings, index_name=index_name)"
   ]
  },
  {
   "cell_type": "code",
   "execution_count": 9,
   "metadata": {},
   "outputs": [],
   "source": [
    "query1 = \"What is climate change?\"\n",
    "docs1 = docsearch.similarity_search(query1, include_metadata=True)"
   ]
  },
  {
   "cell_type": "code",
   "execution_count": 10,
   "metadata": {},
   "outputs": [
    {
     "data": {
      "text/plain": [
       "[Document(page_content='Martens, W.J.M. 1998. “Climate Change, Thermal Stress and Mortality Changes.” Social Science and\\n\\nMedicine 46(3):331-344.\\n\\nMartin, P.H. and M.G. Lefebvre. 1995. “Malaria and Climate: Sensitivity of Malaria Potential\\n\\nTransmission to Climate.” Ambio 24:200-207.\\n\\nMcMichael, A., A. Githeko, R. Akhtar, R. Caracavallo, D. Gubler, A. Haines, R.S. Kovats, P. Martens, J.\\n\\nPatz, and A. Sasaki. 2001. “Human Health.” In Climate Change 2001: Impacts, Adaptation and\\n\\nVulnerability, J. McCarthy, O. Canziani, N. Leary, D. Dokken, and K. White (eds.). New York:\\n\\nCambridge University Press, pp. 451-485.\\n\\nMendelsohn, R. 2001. Global Warming and the American Economy: A Regional Assessment of Climate\\n\\nChange Impacts. Northampton, MA: Edward Elgar.\\n\\nMendelsohn, R. and J. Neumann (eds.). 1999. The Impacts of Climate Change on the U.S. Economy.\\n\\nCambridge, UK: Cambridge University Press.\\n\\nMendelsohn, R. and M.E. Schlesinger. 1997. “Climate Response Functions”, Ambio 28 (1999) 362-366.', metadata={}),\n",
       " Document(page_content='Martens, W.J.M. 1998. “Climate Change, Thermal Stress and Mortality Changes.” Social Science and\\n\\nMedicine 46(3):331-344.\\n\\nMartin, P.H. and M.G. Lefebvre. 1995. “Malaria and Climate: Sensitivity of Malaria Potential\\n\\nTransmission to Climate.” Ambio 24:200-207.\\n\\nMcMichael, A., A. Githeko, R. Akhtar, R. Caracavallo, D. Gubler, A. Haines, R.S. Kovats, P. Martens, J.\\n\\nPatz, and A. Sasaki. 2001. “Human Health.” In Climate Change 2001: Impacts, Adaptation and\\n\\nVulnerability, J. McCarthy, O. Canziani, N. Leary, D. Dokken, and K. White (eds.). New York:\\n\\nCambridge University Press, pp. 451-485.\\n\\nMendelsohn, R. 2001. Global Warming and the American Economy: A Regional Assessment of Climate\\n\\nChange Impacts. Northampton, MA: Edward Elgar.\\n\\nMendelsohn, R. and J. Neumann (eds.). 1999. The Impacts of Climate Change on the U.S. Economy.\\n\\nCambridge, UK: Cambridge University Press.\\n\\nMendelsohn, R. and M.E. Schlesinger. 1997. “Climate Response Functions”, Ambio 28 (1999) 362-366.', metadata={}),\n",
       " Document(page_content='Martens, W.J.M. 1998. “Climate Change, Thermal Stress and Mortality Changes.” Social Science and\\n\\nMedicine 46(3):331-344.\\n\\nMartin, P.H. and M.G. Lefebvre. 1995. “Malaria and Climate: Sensitivity of Malaria Potential\\n\\nTransmission to Climate.” Ambio 24:200-207.\\n\\nMcMichael, A., A. Githeko, R. Akhtar, R. Caracavallo, D. Gubler, A. Haines, R.S. Kovats, P. Martens, J.\\n\\nPatz, and A. Sasaki. 2001. “Human Health.” In Climate Change 2001: Impacts, Adaptation and\\n\\nVulnerability, J. McCarthy, O. Canziani, N. Leary, D. Dokken, and K. White (eds.). New York:\\n\\nCambridge University Press, pp. 451-485.\\n\\nMendelsohn, R. 2001. Global Warming and the American Economy: A Regional Assessment of Climate\\n\\nChange Impacts. Northampton, MA: Edward Elgar.\\n\\nMendelsohn, R. and J. Neumann (eds.). 1999. The Impacts of Climate Change on the U.S. Economy.\\n\\nCambridge, UK: Cambridge University Press.\\n\\nMendelsohn, R. and M.E. Schlesinger. 1997. “Climate Response Functions”, Ambio 28 (1999) 362-366.', metadata={}),\n",
       " Document(page_content='Martens, W.J.M. 1998. “Climate Change, Thermal Stress and Mortality Changes.” Social Science and\\n\\nMedicine 46(3):331-344.\\n\\nMartin, P.H. and M.G. Lefebvre. 1995. “Malaria and Climate: Sensitivity of Malaria Potential\\n\\nTransmission to Climate.” Ambio 24:200-207.\\n\\nMcMichael, A., A. Githeko, R. Akhtar, R. Caracavallo, D. Gubler, A. Haines, R.S. Kovats, P. Martens, J.\\n\\nPatz, and A. Sasaki. 2001. “Human Health.” In Climate Change 2001: Impacts, Adaptation and\\n\\nVulnerability, J. McCarthy, O. Canziani, N. Leary, D. Dokken, and K. White (eds.). New York:\\n\\nCambridge University Press, pp. 451-485.\\n\\nMendelsohn, R. 2001. Global Warming and the American Economy: A Regional Assessment of Climate\\n\\nChange Impacts. Northampton, MA: Edward Elgar.\\n\\nMendelsohn, R. and J. Neumann (eds.). 1999. The Impacts of Climate Change on the U.S. Economy.\\n\\nCambridge, UK: Cambridge University Press.\\n\\nMendelsohn, R. and M.E. Schlesinger. 1997. “Climate Response Functions”, Ambio 28 (1999) 362-366.', metadata={})]"
      ]
     },
     "execution_count": 10,
     "metadata": {},
     "output_type": "execute_result"
    }
   ],
   "source": [
    "docs1"
   ]
  },
  {
   "cell_type": "code",
   "execution_count": 11,
   "metadata": {},
   "outputs": [],
   "source": [
    "context = []\n",
    "\n",
    "for doc in docs1:\n",
    "    if doc.page_content not in context:\n",
    "        context.append(doc.page_content)"
   ]
  },
  {
   "cell_type": "code",
   "execution_count": 12,
   "metadata": {},
   "outputs": [],
   "source": [
    "context = ' '.join(context) # str of context(s)"
   ]
  },
  {
   "cell_type": "code",
   "execution_count": 13,
   "metadata": {},
   "outputs": [
    {
     "data": {
      "text/plain": [
       "'Martens, W.J.M. 1998. “Climate Change, Thermal Stress and Mortality Changes.” Social Science and\\n\\nMedicine 46(3):331-344.\\n\\nMartin, P.H. and M.G. Lefebvre. 1995. “Malaria and Climate: Sensitivity of Malaria Potential\\n\\nTransmission to Climate.” Ambio 24:200-207.\\n\\nMcMichael, A., A. Githeko, R. Akhtar, R. Caracavallo, D. Gubler, A. Haines, R.S. Kovats, P. Martens, J.\\n\\nPatz, and A. Sasaki. 2001. “Human Health.” In Climate Change 2001: Impacts, Adaptation and\\n\\nVulnerability, J. McCarthy, O. Canziani, N. Leary, D. Dokken, and K. White (eds.). New York:\\n\\nCambridge University Press, pp. 451-485.\\n\\nMendelsohn, R. 2001. Global Warming and the American Economy: A Regional Assessment of Climate\\n\\nChange Impacts. Northampton, MA: Edward Elgar.\\n\\nMendelsohn, R. and J. Neumann (eds.). 1999. The Impacts of Climate Change on the U.S. Economy.\\n\\nCambridge, UK: Cambridge University Press.\\n\\nMendelsohn, R. and M.E. Schlesinger. 1997. “Climate Response Functions”, Ambio 28 (1999) 362-366.'"
      ]
     },
     "execution_count": 13,
     "metadata": {},
     "output_type": "execute_result"
    }
   ],
   "source": [
    "context"
   ]
  },
  {
   "cell_type": "code",
   "execution_count": 1,
   "metadata": {},
   "outputs": [],
   "source": [
    "context = (\n",
    "    \"This study therefore surveyed the literature on global impacts of climate change in specific \"\n",
    "    \"sectors. It focused on the literature that examined global impacts up to 2100 and to a limited extent \"\n",
    "    \"delineated some regional impacts as well. It did not attempt to summarize the regional impact literature. \"\n",
    "    \"We used the metrics as reported in these studies, such as number of people affected, production, and \"\n",
    "    \"primary productivity, as indicators of global impacts. We used change in global mean temperature (GMT) \"\n",
    "    \"as the primary indicator of climate change, recognising that climate change is far more complex than this. \"\n",
    "    \"For example, potential changes in regional climate and climate variance associated with a particular change \"\n",
    "    \"in GMT can vary widely and encompass not only changes in temperature but also changes in precipitation \"\n",
    "    \"and other climatic variables. We examined different studies to see if they showed a consistent relationship \"\n",
    "    \"between impacts and increases in GMT. In particular, we tried to determine whether damages rise \"\n",
    "    \"monotonically with increasing GMT, whether there are thresholds below which there are virtually no \"\n",
    "    \"impacts, or whether there is a parabolic relationship, i.e., positive impacts followed by a reversal in sign. \"\n",
    ")"
   ]
  },
  {
   "cell_type": "code",
   "execution_count": 9,
   "metadata": {},
   "outputs": [],
   "source": [
    "query2 = 'What are the factors of global impacts?'"
   ]
  },
  {
   "attachments": {},
   "cell_type": "markdown",
   "metadata": {},
   "source": [
    "### **Importing Libraries**"
   ]
  },
  {
   "cell_type": "code",
   "execution_count": 3,
   "metadata": {},
   "outputs": [
    {
     "name": "stderr",
     "output_type": "stream",
     "text": [
      "c:\\Users\\User\\AppData\\Local\\Programs\\Python\\Python311\\Lib\\site-packages\\tqdm\\auto.py:21: TqdmWarning: IProgress not found. Please update jupyter and ipywidgets. See https://ipywidgets.readthedocs.io/en/stable/user_install.html\n",
      "  from .autonotebook import tqdm as notebook_tqdm\n"
     ]
    }
   ],
   "source": [
    "# import torch\n",
    "from transformers import BertForQuestionAnswering\n",
    "# from transformers import BertTokenizer\n",
    "from transformers import AutoTokenizer\n",
    "from transformers import pipeline"
   ]
  },
  {
   "cell_type": "code",
   "execution_count": 4,
   "metadata": {},
   "outputs": [
    {
     "name": "stderr",
     "output_type": "stream",
     "text": [
      "Downloading (…)/main/tokenizer.json: 100%|██████████| 466k/466k [00:00<00:00, 736kB/s]\n",
      "c:\\Users\\User\\AppData\\Local\\Programs\\Python\\Python311\\Lib\\site-packages\\huggingface_hub\\file_download.py:133: UserWarning: `huggingface_hub` cache-system uses symlinks by default to efficiently store duplicated files but your machine does not support them in C:\\Users\\User\\.cache\\huggingface\\hub. Caching files will still work but in a degraded version that might require more space on your disk. This warning can be disabled by setting the `HF_HUB_DISABLE_SYMLINKS_WARNING` environment variable. For more details, see https://huggingface.co/docs/huggingface_hub/how-to-cache#limitations.\n",
      "To support symlinks on Windows, you either need to activate Developer Mode or to run Python as an administrator. In order to see activate developer mode, see this article: https://docs.microsoft.com/en-us/windows/apps/get-started/enable-your-device-for-development\n",
      "  warnings.warn(message)\n"
     ]
    }
   ],
   "source": [
    "model = BertForQuestionAnswering.from_pretrained('bert-large-uncased-whole-word-masking-finetuned-squad')\n",
    "tokenizer = AutoTokenizer.from_pretrained('bert-large-uncased-whole-word-masking-finetuned-squad')\n",
    "# tokenizer = BertTokenizer.from_pretrained('bert-large-uncased-whole-word-masking-finetuned-squad')"
   ]
  },
  {
   "cell_type": "code",
   "execution_count": 10,
   "metadata": {},
   "outputs": [
    {
     "data": {
      "text/plain": [
       "[101, 2054, 2024, 1996, 5876, 1997, 3795, 14670, 1029, 102]"
      ]
     },
     "execution_count": 10,
     "metadata": {},
     "output_type": "execute_result"
    }
   ],
   "source": [
    "tokenizer.encode(query2, truncation=True, padding=True)"
   ]
  },
  {
   "cell_type": "code",
   "execution_count": 11,
   "metadata": {},
   "outputs": [],
   "source": [
    "nlp = pipeline('question-answering', model=model, tokenizer=tokenizer)"
   ]
  },
  {
   "cell_type": "code",
   "execution_count": 12,
   "metadata": {},
   "outputs": [
    {
     "data": {
      "text/plain": [
       "{'score': 0.8394834399223328,\n",
       " 'start': 359,\n",
       " 'end': 422,\n",
       " 'answer': 'number of people affected, production, and primary productivity'}"
      ]
     },
     "execution_count": 12,
     "metadata": {},
     "output_type": "execute_result"
    }
   ],
   "source": [
    "nlp({\n",
    "    'question': query2,\n",
    "    'context': context\n",
    "})"
   ]
  },
  {
   "cell_type": "code",
   "execution_count": 23,
   "metadata": {},
   "outputs": [
    {
     "name": "stdout",
     "output_type": "stream",
     "text": [
      "The input has a total of 312 tokens.\n"
     ]
    }
   ],
   "source": [
    "# input_ids = tokenizer.encode(query1, context, max_length=512, truncation=True, add_special_tokens=True, padding=True)\n",
    "input_ids = tokenizer.encode(query1, context)\n",
    "print(f'The input has a total of {len(input_ids)} tokens.')"
   ]
  },
  {
   "cell_type": "code",
   "execution_count": 24,
   "metadata": {},
   "outputs": [
    {
     "name": "stdout",
     "output_type": "stream",
     "text": [
      "[CLS]        101\n",
      "what       2,054\n",
      "is         2,003\n",
      "climate    4,785\n",
      "change     2,689\n",
      "?          1,029\n",
      "[SEP]        102\n",
      "mart      20,481\n",
      "##ens      6,132\n",
      ",          1,010\n",
      "w          1,059\n",
      ".          1,012\n",
      "j          1,046\n",
      ".          1,012\n",
      "m          1,049\n",
      ".          1,012\n",
      "1998       2,687\n",
      ".          1,012\n",
      "“          1,523\n",
      "climate    4,785\n",
      "change     2,689\n",
      ",          1,010\n",
      "thermal    9,829\n",
      "stress     6,911\n",
      "and        1,998\n",
      "mortality  13,356\n",
      "changes    3,431\n",
      ".          1,012\n",
      "”          1,524\n",
      "social     2,591\n",
      "science    2,671\n",
      "and        1,998\n",
      "medicine   4,200\n",
      "46         4,805\n",
      "(          1,006\n",
      "3          1,017\n",
      ")          1,007\n",
      ":          1,024\n",
      "331       27,533\n",
      "-          1,011\n",
      "344       29,386\n",
      ".          1,012\n",
      "martin     3,235\n",
      ",          1,010\n",
      "p          1,052\n",
      ".          1,012\n",
      "h          1,044\n",
      ".          1,012\n",
      "and        1,998\n",
      "m          1,049\n",
      ".          1,012\n",
      "g          1,043\n",
      ".          1,012\n",
      "le         3,393\n",
      "##fe       7,959\n",
      "##b        2,497\n",
      "##vre     12,229\n",
      ".          1,012\n",
      "1995       2,786\n",
      ".          1,012\n",
      "“          1,523\n",
      "malaria   19,132\n",
      "and        1,998\n",
      "climate    4,785\n",
      ":          1,024\n",
      "sensitivity  14,639\n",
      "of         1,997\n",
      "malaria   19,132\n",
      "potential   4,022\n",
      "transmission   6,726\n",
      "to         2,000\n",
      "climate    4,785\n",
      ".          1,012\n",
      "”          1,524\n",
      "am         2,572\n",
      "##bio     26,282\n",
      "24         2,484\n",
      ":          1,024\n",
      "200        3,263\n",
      "-          1,011\n",
      "207       19,843\n",
      ".          1,012\n",
      "mc        11,338\n",
      "##mic      7,712\n",
      "##hae     25,293\n",
      "##l        2,140\n",
      ",          1,010\n",
      "a          1,037\n",
      ".          1,012\n",
      ",          1,010\n",
      "a          1,037\n",
      ".          1,012\n",
      "gi        21,025\n",
      "##the     10,760\n",
      "##ko       3,683\n",
      ",          1,010\n",
      "r          1,054\n",
      ".          1,012\n",
      "ak        17,712\n",
      "##hta     22,893\n",
      "##r        2,099\n",
      ",          1,010\n",
      "r          1,054\n",
      ".          1,012\n",
      "cara      14,418\n",
      "##ca       3,540\n",
      "##val     10,175\n",
      "##lo       4,135\n",
      ",          1,010\n",
      "d          1,040\n",
      ".          1,012\n",
      "gu        19,739\n",
      "##bler    16,213\n",
      ",          1,010\n",
      "a          1,037\n",
      ".          1,012\n",
      "hai       15,030\n",
      "##nes      5,267\n",
      ",          1,010\n",
      "r          1,054\n",
      ".          1,012\n",
      "s          1,055\n",
      ".          1,012\n",
      "ko        12,849\n",
      "##vat     22,879\n",
      "##s        2,015\n",
      ",          1,010\n",
      "p          1,052\n",
      ".          1,012\n",
      "mart      20,481\n",
      "##ens      6,132\n",
      ",          1,010\n",
      "j          1,046\n",
      ".          1,012\n",
      "pat        6,986\n",
      "##z        2,480\n",
      ",          1,010\n",
      "and        1,998\n",
      "a          1,037\n",
      ".          1,012\n",
      "sas       21,871\n",
      "##aki      8,978\n",
      ".          1,012\n",
      "2001       2,541\n",
      ".          1,012\n",
      "“          1,523\n",
      "human      2,529\n",
      "health     2,740\n",
      ".          1,012\n",
      "”          1,524\n",
      "in         1,999\n",
      "climate    4,785\n",
      "change     2,689\n",
      "2001       2,541\n",
      ":          1,024\n",
      "impacts   14,670\n",
      ",          1,010\n",
      "adaptation   6,789\n",
      "and        1,998\n",
      "vulnerability  18,130\n",
      ",          1,010\n",
      "j          1,046\n",
      ".          1,012\n",
      "mccarthy  12,584\n",
      ",          1,010\n",
      "o          1,051\n",
      ".          1,012\n",
      "can        2,064\n",
      "##zia     12,871\n",
      "##ni       3,490\n",
      ",          1,010\n",
      "n          1,050\n",
      ".          1,012\n",
      "leary     22,986\n",
      ",          1,010\n",
      "d          1,040\n",
      ".          1,012\n",
      "do         2,079\n",
      "##kken    24,192\n",
      ",          1,010\n",
      "and        1,998\n",
      "k          1,047\n",
      ".          1,012\n",
      "white      2,317\n",
      "(          1,006\n",
      "eds       11,985\n",
      ".          1,012\n",
      ")          1,007\n",
      ".          1,012\n",
      "new        2,047\n",
      "york       2,259\n",
      ":          1,024\n",
      "cambridge   4,729\n",
      "university   2,118\n",
      "press      2,811\n",
      ",          1,010\n",
      "pp         4,903\n",
      ".          1,012\n",
      "451       28,161\n",
      "-          1,011\n",
      "48         4,466\n",
      "##5        2,629\n",
      ".          1,012\n",
      "men        2,273\n",
      "##del      9,247\n",
      "##so       6,499\n",
      "##hn       7,295\n",
      ",          1,010\n",
      "r          1,054\n",
      ".          1,012\n",
      "2001       2,541\n",
      ".          1,012\n",
      "global     3,795\n",
      "warming   12,959\n",
      "and        1,998\n",
      "the        1,996\n",
      "american   2,137\n",
      "economy    4,610\n",
      ":          1,024\n",
      "a          1,037\n",
      "regional   3,164\n",
      "assessment   7,667\n",
      "of         1,997\n",
      "climate    4,785\n",
      "change     2,689\n",
      "impacts   14,670\n",
      ".          1,012\n",
      "northampton  15,944\n",
      ",          1,010\n",
      "ma         5,003\n",
      ":          1,024\n",
      "edward     3,487\n",
      "el         3,449\n",
      "##gar      6,843\n",
      ".          1,012\n",
      "men        2,273\n",
      "##del      9,247\n",
      "##so       6,499\n",
      "##hn       7,295\n",
      ",          1,010\n",
      "r          1,054\n",
      ".          1,012\n",
      "and        1,998\n",
      "j          1,046\n",
      ".          1,012\n",
      "neumann   22,860\n",
      "(          1,006\n",
      "eds       11,985\n",
      ".          1,012\n",
      ")          1,007\n",
      ".          1,012\n",
      "1999       2,639\n",
      ".          1,012\n",
      "the        1,996\n",
      "impacts   14,670\n",
      "of         1,997\n",
      "climate    4,785\n",
      "change     2,689\n",
      "on         2,006\n",
      "the        1,996\n",
      "u          1,057\n",
      ".          1,012\n",
      "s          1,055\n",
      ".          1,012\n",
      "economy    4,610\n",
      ".          1,012\n",
      "cambridge   4,729\n",
      ",          1,010\n",
      "uk         2,866\n",
      ":          1,024\n",
      "cambridge   4,729\n",
      "university   2,118\n",
      "press      2,811\n",
      ".          1,012\n",
      "men        2,273\n",
      "##del      9,247\n",
      "##so       6,499\n",
      "##hn       7,295\n",
      ",          1,010\n",
      "r          1,054\n",
      ".          1,012\n",
      "and        1,998\n",
      "m          1,049\n",
      ".          1,012\n",
      "e          1,041\n",
      ".          1,012\n",
      "sc         8,040\n",
      "##hl       7,317\n",
      "##es       2,229\n",
      "##inger    9,912\n",
      ".          1,012\n",
      "1997       2,722\n",
      ".          1,012\n",
      "“          1,523\n",
      "climate    4,785\n",
      "response   3,433\n",
      "functions   4,972\n",
      "”          1,524\n",
      ",          1,010\n",
      "am         2,572\n",
      "##bio     26,282\n",
      "28         2,654\n",
      "(          1,006\n",
      "1999       2,639\n",
      ")          1,007\n",
      "36         4,029\n",
      "##2        2,475\n",
      "-          1,011\n",
      "36         4,029\n",
      "##6        2,575\n",
      ".          1,012\n",
      "[SEP]        102\n"
     ]
    }
   ],
   "source": [
    "tokens = tokenizer.convert_ids_to_tokens(input_ids)\n",
    "\n",
    "for token, id in zip(tokens, input_ids):\n",
    "    print('{:8}{:8,}'.format(token, id))"
   ]
  },
  {
   "cell_type": "code",
   "execution_count": 25,
   "metadata": {},
   "outputs": [],
   "source": [
    "sep_idx = input_ids.index(tokenizer.sep_token_id)\n",
    "num_seg_a = sep_idx + 1\n",
    "num_seg_b = len(input_ids) - num_seg_a\n",
    "segment_ids = [0]*num_seg_a + [1]*num_seg_b\n",
    "assert len(segment_ids) == len(input_ids)"
   ]
  },
  {
   "cell_type": "code",
   "execution_count": 26,
   "metadata": {},
   "outputs": [],
   "source": [
    "output = model(torch.tensor([input_ids]),\n",
    "               token_type_ids=torch.tensor([segment_ids]))"
   ]
  },
  {
   "cell_type": "code",
   "execution_count": 27,
   "metadata": {},
   "outputs": [
    {
     "name": "stdout",
     "output_type": "stream",
     "text": [
      "\n",
      "Question:\n",
      "What is climate change?\n",
      "\n",
      "Answer:\n",
      "[cls] what is climate change ? [sep]\n"
     ]
    }
   ],
   "source": [
    "answer_start = torch.argmax(output.start_logits)\n",
    "answer_end = torch.argmax(output.end_logits)\n",
    "\n",
    "if answer_end >= answer_start:\n",
    "    answer = \" \".join(tokens[answer_start:answer_end+1])\n",
    "else:\n",
    "    answer = 'No answer to the question.'\n",
    "\n",
    "print(f\"\\nQuestion:\\n{query1.capitalize()}\")\n",
    "print(f\"\\nAnswer:\\n{answer.capitalize()}\")"
   ]
  },
  {
   "cell_type": "code",
   "execution_count": 28,
   "metadata": {},
   "outputs": [],
   "source": [
    "if answer_end >= answer_start:\n",
    "    answer = tokens[answer_start]\n",
    "    for i in range(answer_start+1, answer_end+1):\n",
    "        if tokens[i][0:2] == \"##\":\n",
    "            answer += tokens[i][2:]\n",
    "        else:\n",
    "            answer += \" \" + tokens[i]\n",
    "\n",
    "if answer.startswith(\"[CLS]\"):\n",
    "    answer = \"No answer to question.\""
   ]
  },
  {
   "cell_type": "code",
   "execution_count": 29,
   "metadata": {},
   "outputs": [
    {
     "name": "stdout",
     "output_type": "stream",
     "text": [
      "\n",
      "Question:\n",
      "What is climate change?\n",
      "\n",
      "Answer:\n",
      "No answer to question.\n"
     ]
    }
   ],
   "source": [
    "print(f\"\\nQuestion:\\n{query1.capitalize()}\")\n",
    "print(f\"\\nAnswer:\\n{answer.capitalize()}\")"
   ]
  },
  {
   "cell_type": "code",
   "execution_count": null,
   "metadata": {},
   "outputs": [],
   "source": []
  },
  {
   "cell_type": "code",
   "execution_count": null,
   "metadata": {},
   "outputs": [],
   "source": []
  },
  {
   "cell_type": "code",
   "execution_count": null,
   "metadata": {},
   "outputs": [],
   "source": []
  }
 ],
 "metadata": {
  "kernelspec": {
   "display_name": "Python 3",
   "language": "python",
   "name": "python3"
  },
  "language_info": {
   "codemirror_mode": {
    "name": "ipython",
    "version": 3
   },
   "file_extension": ".py",
   "mimetype": "text/x-python",
   "name": "python",
   "nbconvert_exporter": "python",
   "pygments_lexer": "ipython3",
   "version": "3.11.2"
  },
  "orig_nbformat": 4
 },
 "nbformat": 4,
 "nbformat_minor": 2
}
