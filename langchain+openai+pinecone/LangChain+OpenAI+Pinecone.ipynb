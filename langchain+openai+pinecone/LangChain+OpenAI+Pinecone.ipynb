{
  "cells": [
    {
      "cell_type": "markdown",
      "metadata": {
        "id": "5IwLUh_uJ4jy"
      },
      "source": [
        "## **Package Installation**"
      ]
    },
    {
      "cell_type": "code",
      "execution_count": 1,
      "metadata": {
        "id": "PFHtew2gKH5W"
      },
      "outputs": [],
      "source": [
        "from langchain.document_loaders import UnstructuredPDFLoader\n",
        "from langchain.text_splitter import RecursiveCharacterTextSplitter"
      ]
    },
    {
      "cell_type": "markdown",
      "metadata": {
        "id": "GEKsWYx7LQmh"
      },
      "source": [
        "## **Load Data**"
      ]
    },
    {
      "cell_type": "code",
      "execution_count": 2,
      "metadata": {
        "id": "oN52Qn25J25k"
      },
      "outputs": [],
      "source": [
        "load_data = UnstructuredPDFLoader(\"./estimate-global-impacts.pdf\")"
      ]
    },
    {
      "cell_type": "code",
      "execution_count": 3,
      "metadata": {
        "colab": {
          "base_uri": "https://localhost:8080/"
        },
        "id": "YWZEj4zBJ274",
        "outputId": "f69b2335-b900-45a8-aa21-cffb08e609b3"
      },
      "outputs": [
        {
          "name": "stderr",
          "output_type": "stream",
          "text": [
            "detectron2 is not installed. Cannot use the hi_res partitioning strategy. Falling back to partitioning with the fast strategy.\n"
          ]
        }
      ],
      "source": [
        "data = load_data.load()"
      ]
    },
    {
      "cell_type": "code",
      "execution_count": 4,
      "metadata": {
        "colab": {
          "base_uri": "https://localhost:8080/"
        },
        "id": "JKF5SnujJ2-U",
        "outputId": "8e195ffc-9fc9-4958-f6b2-8dc7ae229c98"
      },
      "outputs": [
        {
          "name": "stdout",
          "output_type": "stream",
          "text": [
            "1 document(s) in data\n",
            "301820 characters in the document\n"
          ]
        }
      ],
      "source": [
        "print(f'{len(data)} document(s) in data')\n",
        "print(f'{len(data[0].page_content)} characters in the document')"
      ]
    },
    {
      "cell_type": "markdown",
      "metadata": {
        "id": "wdp0cG5FSsdK"
      },
      "source": [
        "## **Split page content into chunks**"
      ]
    },
    {
      "cell_type": "code",
      "execution_count": 5,
      "metadata": {
        "id": "22EEITVEJ3Au"
      },
      "outputs": [],
      "source": [
        "text_splitter = RecursiveCharacterTextSplitter(chunk_size=1000, chunk_overlap=0)\n",
        "texts = text_splitter.split_documents(data)"
      ]
    },
    {
      "cell_type": "code",
      "execution_count": 6,
      "metadata": {
        "colab": {
          "base_uri": "https://localhost:8080/"
        },
        "id": "YziALQKEJ3DR",
        "outputId": "d18b7c9f-3106-40ad-c3d8-02c3a4b14a57"
      },
      "outputs": [
        {
          "name": "stdout",
          "output_type": "stream",
          "text": [
            "315 documents\n"
          ]
        }
      ],
      "source": [
        "print(f'{len(texts)} documents')"
      ]
    },
    {
      "cell_type": "markdown",
      "metadata": {
        "id": "WVNbu7a3S0WL"
      },
      "source": [
        "## **Convert documents into vectors as embeddings**"
      ]
    },
    {
      "cell_type": "code",
      "execution_count": 7,
      "metadata": {
        "id": "7vCmfINUJ3Fe"
      },
      "outputs": [
        {
          "name": "stderr",
          "output_type": "stream",
          "text": [
            "c:\\Users\\User\\AppData\\Local\\Programs\\Python\\Python311\\Lib\\site-packages\\pinecone\\index.py:4: TqdmWarning: IProgress not found. Please update jupyter and ipywidgets. See https://ipywidgets.readthedocs.io/en/stable/user_install.html\n",
            "  from tqdm.autonotebook import tqdm\n"
          ]
        }
      ],
      "source": [
        "from langchain.vectorstores import Chroma, Pinecone\n",
        "from langchain.embeddings.openai import OpenAIEmbeddings\n",
        "import pinecone"
      ]
    },
    {
      "cell_type": "code",
      "execution_count": 8,
      "metadata": {
        "id": "OI31YBfgJ3Hm"
      },
      "outputs": [],
      "source": [
        "OPEN_API_KEY = '<INSERT OPENAPI KEY FROM OPENAI ACCOUNT>'\n",
        "PINECONE_API_KEY = '<INSERT PINECONE API KEY FROM PINECONE ACCOUNT>'\n",
        "PINECONE_API_ENV = 'us-east4-gcp'"
      ]
    },
    {
      "cell_type": "code",
      "execution_count": 9,
      "metadata": {},
      "outputs": [],
      "source": [
        "embeddings = OpenAIEmbeddings(openai_api_key=OPEN_API_KEY)"
      ]
    },
    {
      "cell_type": "code",
      "execution_count": 10,
      "metadata": {},
      "outputs": [],
      "source": [
        "pinecone.init(\n",
        "    api_key=PINECONE_API_KEY,\n",
        "    environment=PINECONE_API_ENV\n",
        ")\n",
        "\n",
        "index_name = \"langchaintest1\""
      ]
    },
    {
      "cell_type": "code",
      "execution_count": 11,
      "metadata": {},
      "outputs": [],
      "source": [
        "docsearch = Pinecone.from_texts([t.page_content for t in texts], embeddings, index_name=index_name)"
      ]
    },
    {
      "cell_type": "code",
      "execution_count": 12,
      "metadata": {
        "id": "kTd5BnQ79TNn"
      },
      "outputs": [],
      "source": [
        "query1 = \"What is climate change?\"\n",
        "docs1 = docsearch.similarity_search(query1, include_metadata=True)"
      ]
    },
    {
      "cell_type": "code",
      "execution_count": 13,
      "metadata": {},
      "outputs": [
        {
          "data": {
            "text/plain": [
              "[Document(page_content='Martens, W.J.M. 1998. “Climate Change, Thermal Stress and Mortality Changes.” Social Science and\\n\\nMedicine 46(3):331-344.\\n\\nMartin, P.H. and M.G. Lefebvre. 1995. “Malaria and Climate: Sensitivity of Malaria Potential\\n\\nTransmission to Climate.” Ambio 24:200-207.\\n\\nMcMichael, A., A. Githeko, R. Akhtar, R. Caracavallo, D. Gubler, A. Haines, R.S. Kovats, P. Martens, J.\\n\\nPatz, and A. Sasaki. 2001. “Human Health.” In Climate Change 2001: Impacts, Adaptation and\\n\\nVulnerability, J. McCarthy, O. Canziani, N. Leary, D. Dokken, and K. White (eds.). New York:\\n\\nCambridge University Press, pp. 451-485.\\n\\nMendelsohn, R. 2001. Global Warming and the American Economy: A Regional Assessment of Climate\\n\\nChange Impacts. Northampton, MA: Edward Elgar.\\n\\nMendelsohn, R. and J. Neumann (eds.). 1999. The Impacts of Climate Change on the U.S. Economy.\\n\\nCambridge, UK: Cambridge University Press.\\n\\nMendelsohn, R. and M.E. Schlesinger. 1997. “Climate Response Functions”, Ambio 28 (1999) 362-366.', metadata={}),\n",
              " Document(page_content='Martens, W.J.M. 1998. “Climate Change, Thermal Stress and Mortality Changes.” Social Science and\\n\\nMedicine 46(3):331-344.\\n\\nMartin, P.H. and M.G. Lefebvre. 1995. “Malaria and Climate: Sensitivity of Malaria Potential\\n\\nTransmission to Climate.” Ambio 24:200-207.\\n\\nMcMichael, A., A. Githeko, R. Akhtar, R. Caracavallo, D. Gubler, A. Haines, R.S. Kovats, P. Martens, J.\\n\\nPatz, and A. Sasaki. 2001. “Human Health.” In Climate Change 2001: Impacts, Adaptation and\\n\\nVulnerability, J. McCarthy, O. Canziani, N. Leary, D. Dokken, and K. White (eds.). New York:\\n\\nCambridge University Press, pp. 451-485.\\n\\nMendelsohn, R. 2001. Global Warming and the American Economy: A Regional Assessment of Climate\\n\\nChange Impacts. Northampton, MA: Edward Elgar.\\n\\nMendelsohn, R. and J. Neumann (eds.). 1999. The Impacts of Climate Change on the U.S. Economy.\\n\\nCambridge, UK: Cambridge University Press.\\n\\nMendelsohn, R. and M.E. Schlesinger. 1997. “Climate Response Functions”, Ambio 28 (1999) 362-366.', metadata={}),\n",
              " Document(page_content='Martens, W.J.M. 1998. “Climate Change, Thermal Stress and Mortality Changes.” Social Science and\\n\\nMedicine 46(3):331-344.\\n\\nMartin, P.H. and M.G. Lefebvre. 1995. “Malaria and Climate: Sensitivity of Malaria Potential\\n\\nTransmission to Climate.” Ambio 24:200-207.\\n\\nMcMichael, A., A. Githeko, R. Akhtar, R. Caracavallo, D. Gubler, A. Haines, R.S. Kovats, P. Martens, J.\\n\\nPatz, and A. Sasaki. 2001. “Human Health.” In Climate Change 2001: Impacts, Adaptation and\\n\\nVulnerability, J. McCarthy, O. Canziani, N. Leary, D. Dokken, and K. White (eds.). New York:\\n\\nCambridge University Press, pp. 451-485.\\n\\nMendelsohn, R. 2001. Global Warming and the American Economy: A Regional Assessment of Climate\\n\\nChange Impacts. Northampton, MA: Edward Elgar.\\n\\nMendelsohn, R. and J. Neumann (eds.). 1999. The Impacts of Climate Change on the U.S. Economy.\\n\\nCambridge, UK: Cambridge University Press.\\n\\nMendelsohn, R. and M.E. Schlesinger. 1997. “Climate Response Functions”, Ambio 28 (1999) 362-366.', metadata={}),\n",
              " Document(page_content='Martens, W.J.M. 1998. “Climate Change, Thermal Stress and Mortality Changes.” Social Science and\\n\\nMedicine 46(3):331-344.\\n\\nMartin, P.H. and M.G. Lefebvre. 1995. “Malaria and Climate: Sensitivity of Malaria Potential\\n\\nTransmission to Climate.” Ambio 24:200-207.\\n\\nMcMichael, A., A. Githeko, R. Akhtar, R. Caracavallo, D. Gubler, A. Haines, R.S. Kovats, P. Martens, J.\\n\\nPatz, and A. Sasaki. 2001. “Human Health.” In Climate Change 2001: Impacts, Adaptation and\\n\\nVulnerability, J. McCarthy, O. Canziani, N. Leary, D. Dokken, and K. White (eds.). New York:\\n\\nCambridge University Press, pp. 451-485.\\n\\nMendelsohn, R. 2001. Global Warming and the American Economy: A Regional Assessment of Climate\\n\\nChange Impacts. Northampton, MA: Edward Elgar.\\n\\nMendelsohn, R. and J. Neumann (eds.). 1999. The Impacts of Climate Change on the U.S. Economy.\\n\\nCambridge, UK: Cambridge University Press.\\n\\nMendelsohn, R. and M.E. Schlesinger. 1997. “Climate Response Functions”, Ambio 28 (1999) 362-366.', metadata={})]"
            ]
          },
          "execution_count": 13,
          "metadata": {},
          "output_type": "execute_result"
        }
      ],
      "source": [
        "docs1"
      ]
    },
    {
      "cell_type": "code",
      "execution_count": 22,
      "metadata": {},
      "outputs": [],
      "source": [
        "context = []\n",
        "\n",
        "for doc in docs1:\n",
        "    if doc.page_content not in context:\n",
        "        context.append(doc.page_content)"
      ]
    },
    {
      "cell_type": "code",
      "execution_count": 23,
      "metadata": {},
      "outputs": [
        {
          "data": {
            "text/plain": [
              "['face  and  it  can  lead  to  double  counting.  Nor  is  it  always  clear  whether  winners,  those  who  somehow\\n\\nbenefit  from  climate  change,  should  offset  those  who  stand  to  lose  in  aggregation.  Similarly,  change  in\\n\\nland use or classification does not measure degree of impact and can allow for double counting as well.\\n\\nIn  this  study,  we  attempt  to  identify  the  marginal  benefits  associated  with  different  levels  of\\n\\nclimate change. We do so based on a survey of primarily sectoral studies that have attempted to quantify\\n\\nglobal impacts of climate change. Instead of converting impacts to a common metric such as dollars, we\\n\\nretain the different metrics reported by the authors. Clearly, this prohibits us from aggregating our results\\n\\nacross sectors. Our goal is not to develop a single estimate of global benefits across sectors. Rather, it is to',\n",
              " 'marginal  benefits,  or  avoided  damages,  associated  with  controlling  climate  change  vary  with  particular\\n\\nlevels of mitigation. In other words, as more stringent levels of mitigation are reached, are there increasing\\n\\nbenefits in terms of avoided damages from climate change? A few studies have attempted to answer this\\n\\nquestion by using a common metric, typically dollars, to express all impacts from climate change. (There\\n\\nare  other  ways  to  estimate  marginal  impacts,  including  identifying  unique  and  vulnerable  systems\\n\\nthreatened by climate change, examining risk from extreme weather events, and identifying thresholds for\\n\\ntriggering state changes in the global climate system, such as shutdown of thermohaline circulation.) While\\n\\nstudies that aggregate impacts from climate change in terms of a single metric provide useful insight about\\n\\nhow  marginal  impacts  change,  especially  at  higher  levels  of  climate  change,  there  are  a  number  of']"
            ]
          },
          "execution_count": 23,
          "metadata": {},
          "output_type": "execute_result"
        }
      ],
      "source": [
        "context"
      ]
    },
    {
      "cell_type": "code",
      "execution_count": 20,
      "metadata": {},
      "outputs": [],
      "source": [
        "context = ' '.join(context)"
      ]
    },
    {
      "cell_type": "code",
      "execution_count": 21,
      "metadata": {},
      "outputs": [
        {
          "data": {
            "text/plain": [
              "'face  and  it  can  lead  to  double  counting.  Nor  is  it  always  clear  whether  winners,  those  who  somehow\\n\\nbenefit  from  climate  change,  should  offset  those  who  stand  to  lose  in  aggregation.  Similarly,  change  in\\n\\nland use or classification does not measure degree of impact and can allow for double counting as well.\\n\\nIn  this  study,  we  attempt  to  identify  the  marginal  benefits  associated  with  different  levels  of\\n\\nclimate change. We do so based on a survey of primarily sectoral studies that have attempted to quantify\\n\\nglobal impacts of climate change. Instead of converting impacts to a common metric such as dollars, we\\n\\nretain the different metrics reported by the authors. Clearly, this prohibits us from aggregating our results\\n\\nacross sectors. Our goal is not to develop a single estimate of global benefits across sectors. Rather, it is to marginal  benefits,  or  avoided  damages,  associated  with  controlling  climate  change  vary  with  particular\\n\\nlevels of mitigation. In other words, as more stringent levels of mitigation are reached, are there increasing\\n\\nbenefits in terms of avoided damages from climate change? A few studies have attempted to answer this\\n\\nquestion by using a common metric, typically dollars, to express all impacts from climate change. (There\\n\\nare  other  ways  to  estimate  marginal  impacts,  including  identifying  unique  and  vulnerable  systems\\n\\nthreatened by climate change, examining risk from extreme weather events, and identifying thresholds for\\n\\ntriggering state changes in the global climate system, such as shutdown of thermohaline circulation.) While\\n\\nstudies that aggregate impacts from climate change in terms of a single metric provide useful insight about\\n\\nhow  marginal  impacts  change,  especially  at  higher  levels  of  climate  change,  there  are  a  number  of'"
            ]
          },
          "execution_count": 21,
          "metadata": {},
          "output_type": "execute_result"
        }
      ],
      "source": [
        "context"
      ]
    },
    {
      "attachments": {},
      "cell_type": "markdown",
      "metadata": {},
      "source": [
        "## **Query docs to obtain answer**"
      ]
    },
    {
      "cell_type": "code",
      "execution_count": 14,
      "metadata": {
        "id": "6mZuJK4v9TPG"
      },
      "outputs": [],
      "source": [
        "from langchain.llms import OpenAI\n",
        "from langchain.chains.question_answering import load_qa_chain"
      ]
    },
    {
      "cell_type": "code",
      "execution_count": 15,
      "metadata": {
        "id": "0ynk-at_9Tfw"
      },
      "outputs": [],
      "source": [
        "llm = OpenAI(temperature=0, openai_api_key=OPEN_API_KEY)\n",
        "chain = load_qa_chain(llm, chain_type=\"stuff\")"
      ]
    },
    {
      "cell_type": "code",
      "execution_count": 18,
      "metadata": {
        "id": "kxndMGWd9Thm"
      },
      "outputs": [],
      "source": [
        "query2 = \"What is climate change?\"\n",
        "docs2 = docsearch.similarity_search(query2, include_metadata=True)"
      ]
    },
    {
      "cell_type": "code",
      "execution_count": 19,
      "metadata": {
        "id": "lh06-5-4J3J4"
      },
      "outputs": [
        {
          "data": {
            "text/plain": [
              "' Climate change is a broad term that refers to the long-term changes in global or regional climate patterns. It can refer to changes in average weather conditions, such as temperature, precipitation, and wind patterns, as well as extreme weather events. It can also refer to changes in the frequency and intensity of extreme weather events, such as heat waves, droughts, floods, and hurricanes.'"
            ]
          },
          "execution_count": 19,
          "metadata": {},
          "output_type": "execute_result"
        }
      ],
      "source": [
        "chain.run(input_documents=docs2, question=query2)"
      ]
    },
    {
      "cell_type": "code",
      "execution_count": null,
      "metadata": {},
      "outputs": [],
      "source": []
    },
    {
      "cell_type": "code",
      "execution_count": null,
      "metadata": {},
      "outputs": [],
      "source": []
    },
    {
      "cell_type": "code",
      "execution_count": null,
      "metadata": {},
      "outputs": [],
      "source": []
    }
  ],
  "metadata": {
    "colab": {
      "provenance": []
    },
    "gpuClass": "standard",
    "kernelspec": {
      "display_name": "Python 3",
      "name": "python3"
    },
    "language_info": {
      "codemirror_mode": {
        "name": "ipython",
        "version": 3
      },
      "file_extension": ".py",
      "mimetype": "text/x-python",
      "name": "python",
      "nbconvert_exporter": "python",
      "pygments_lexer": "ipython3",
      "version": "3.11.2"
    }
  },
  "nbformat": 4,
  "nbformat_minor": 0
}
